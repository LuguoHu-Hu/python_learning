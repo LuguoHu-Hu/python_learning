{
 "cells": [
  {
   "cell_type": "code",
   "execution_count": 1,
   "metadata": {},
   "outputs": [
    {
     "name": "stdout",
     "output_type": "stream",
     "text": [
      "0xff\n",
      "0x3e8\n"
     ]
    }
   ],
   "source": [
    "# -*- coding: utf-8 -*-\n",
    "\n",
    "n1 = 255\n",
    "n2 = 1000\n",
    "print(hex(n1))\n",
    "print(hex(n2))"
   ]
  },
  {
   "cell_type": "code",
   "execution_count": 10,
   "metadata": {},
   "outputs": [
    {
     "name": "stdout",
     "output_type": "stream",
     "text": [
      "a=2\n",
      "b=3\n",
      "c=1\n",
      "(-0.5, -1.0)\n",
      "quadratic(2, 3, 1) = (-0.5, -1.0)\n",
      "quadratic(1, 3, -4) = (1.0, -4.0)\n",
      "测试成功\n"
     ]
    }
   ],
   "source": [
    "import math\n",
    "def quadratic(a, b, c):\n",
    "    deta=b*b-4*a*c\n",
    "    if deta < 0:\n",
    "        pass\n",
    "    elif deta == 0:\n",
    "        x1 = x2 = -b/(2*a)\n",
    "        return x1\n",
    "    else:\n",
    "        x1 = (-b+math.sqrt(deta))/(2*a)\n",
    "        x2 = (-b-math.sqrt(deta))/(2*a)\n",
    "        return x1,x2\n",
    "# 测试:\n",
    "a=float(input(\"a=\"))\n",
    "b=float(input(\"b=\"))\n",
    "c=float(input(\"c=\"))\n",
    "print(quadratic(a,b,c))\n",
    "\n",
    "print('quadratic(2, 3, 1) =', quadratic(2, 3, 1))\n",
    "print('quadratic(1, 3, -4) =', quadratic(1, 3, -4))\n",
    "if quadratic(2, 3, 1) != (-0.5, -1.0):\n",
    "    print('测试失败')\n",
    "elif quadratic(1, 3, -4) != (1.0, -4.0):\n",
    "    print('测试失败')\n",
    "else:\n",
    "    print('测试成功')\n",
    "    \n",
    "    \n",
    "        "
   ]
  },
  {
   "cell_type": "code",
   "execution_count": null,
   "metadata": {},
   "outputs": [],
   "source": [
    "def powerxn(x,n):\n",
    "    p = 1\n",
    "    while n>0:\n",
    "        n = n-1\n",
    "        p = p*x\n",
    "    print(p)\n",
    "    return p\n",
    "\n",
    "powerxn(5,2)\n",
    "    "
   ]
  },
  {
   "cell_type": "code",
   "execution_count": null,
   "metadata": {},
   "outputs": [],
   "source": [
    "def power(x, n):\n",
    "    s = 1\n",
    "    while n > 0:\n",
    "        n = n - 1\n",
    "        s = s * x\n",
    "    return s\n",
    "power(5,2)"
   ]
  },
  {
   "cell_type": "code",
   "execution_count": null,
   "metadata": {},
   "outputs": [],
   "source": []
  }
 ],
 "metadata": {
  "kernelspec": {
   "display_name": "Python 3",
   "language": "python",
   "name": "python3"
  },
  "language_info": {
   "codemirror_mode": {
    "name": "ipython",
    "version": 3
   },
   "file_extension": ".py",
   "mimetype": "text/x-python",
   "name": "python",
   "nbconvert_exporter": "python",
   "pygments_lexer": "ipython3",
   "version": "3.7.3"
  }
 },
 "nbformat": 4,
 "nbformat_minor": 2
}
