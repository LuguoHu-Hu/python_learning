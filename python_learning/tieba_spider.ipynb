{
 "cells": [
  {
   "cell_type": "code",
   "execution_count": null,
   "metadata": {},
   "outputs": [],
   "source": [
    "import urllib.request\n",
    "import urllib.error\n",
    "\n",
    "def write_file(file_name,text):\n",
    "    '''\n",
    "    @brief 将字符串内容写入文件中\n",
    "    @file_name 文件名字\n",
    "    @text 文件内容\n",
    "    '''\n",
    "    print('正在存储文件'+file_name)\n",
    "    f = open(file_name,'wb+')\n",
    "    f.write(text)\n",
    "    f.close\n",
    "    \n",
    "    \n",
    "def load_page(url):\n",
    "    req = urllib.request.Request(url)\n",
    "    response = urllib.request.urlopen(req)\n",
    "    html = response.read()\n",
    "    return html\n",
    "\n",
    "\n",
    "def tieba_spider(url,begin_page,end_page):\n",
    "    user_agent = ('Mozilla/5.0 (compatible; MSIE 9.0; Windows NT 6.1; Trident/5.0;')\n",
    "    headers = {'User-Agent':user_agent}\n",
    "    for i in range(begin_page, end_page+1):\n",
    "        pn = 50 * (i - 1)\n",
    "        html = load_page(url+str(pn))\n",
    "        file_name = str(i) +'.html'\n",
    "        print ('正在下载第' + str(i) + '个网页')\n",
    "        write_file(file_name, html)\n",
    "\n",
    "if __name__ == '__main__':\n",
    "    bdurl = str(input('请输入贴吧的地址, 去掉pn=后面的数字:'))\n",
    "    begin_page = int(input('请输入开始的页数'))\n",
    "    end_page = int(input('请输入结束的页数'))\n",
    "    tieba_spider(bdurl, begin_page, end_page)\n",
    "\n",
    "\n",
    " \n"
   ]
  },
  {
   "cell_type": "code",
   "execution_count": null,
   "metadata": {},
   "outputs": [],
   "source": []
  }
 ],
 "metadata": {
  "kernelspec": {
   "display_name": "Python 3",
   "language": "python",
   "name": "python3"
  },
  "language_info": {
   "codemirror_mode": {
    "name": "ipython",
    "version": 3
   },
   "file_extension": ".py",
   "mimetype": "text/x-python",
   "name": "python",
   "nbconvert_exporter": "python",
   "pygments_lexer": "ipython3",
   "version": "3.7.3"
  }
 },
 "nbformat": 4,
 "nbformat_minor": 2
}
