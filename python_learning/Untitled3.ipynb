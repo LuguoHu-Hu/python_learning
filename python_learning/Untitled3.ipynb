{
 "cells": [
  {
   "cell_type": "code",
   "execution_count": 3,
   "metadata": {},
   "outputs": [
    {
     "data": {
      "text/plain": [
       "25"
      ]
     },
     "execution_count": 3,
     "metadata": {},
     "output_type": "execute_result"
    }
   ],
   "source": [
    "def powerxn(x,n):\n",
    "    p = 1\n",
    "    while n>0:\n",
    "        n = n-1\n",
    "        p = p*x\n",
    "    return p\n",
    "\n",
    "powerxn(5,2)"
   ]
  },
  {
   "cell_type": "code",
   "execution_count": 9,
   "metadata": {},
   "outputs": [
    {
     "name": "stdout",
     "output_type": "stream",
     "text": [
      "product(5) = 5\n",
      "product(5, 6) = 30\n",
      "product(5, 6, 7) = 210\n",
      "product(5, 6, 7, 9) = 1890\n",
      "测试成功!\n"
     ]
    }
   ],
   "source": [
    "def product(x,*num):\n",
    "    for i in num:\n",
    "        x = x*i\n",
    "    return x\n",
    "# 测试\n",
    "print('product(5) =', product(5))\n",
    "print('product(5, 6) =', product(5, 6))\n",
    "print('product(5, 6, 7) =', product(5, 6, 7))\n",
    "print('product(5, 6, 7, 9) =', product(5, 6, 7, 9))\n",
    "if product(5) != 5:\n",
    "    print('测试失败!')\n",
    "elif product(5, 6) != 30:\n",
    "    print('测试失败!')\n",
    "elif product(5, 6, 7) != 210:\n",
    "    print('测试失败!')\n",
    "elif product(5, 6, 7, 9) != 1890:\n",
    "    print('测试失败!')\n",
    "else:\n",
    "    try:\n",
    "        product()\n",
    "        print('测试失败!')\n",
    "    except TypeError:\n",
    "        print('测试成功!')\n"
   ]
  },
  {
   "cell_type": "code",
   "execution_count": 11,
   "metadata": {},
   "outputs": [
    {
     "name": "stdout",
     "output_type": "stream",
     "text": [
      "A --> C\n",
      "A --> B\n",
      "C --> B\n",
      "A --> C\n",
      "B --> A\n",
      "B --> C\n",
      "A --> C\n"
     ]
    }
   ],
   "source": [
    "# -*- coding: utf-8 -*-\n",
    "def move(n, a, b, c):\n",
    "    if n == 1:\n",
    "        print(a,\"-->\",c)\n",
    "    else:\n",
    "        move(n-1,a,c,b)\n",
    "        print(a,\"-->\",c)\n",
    "        move(n-1,b,a,c)\n",
    "move(3,'A','B','C')\n"
   ]
  },
  {
   "cell_type": "code",
   "execution_count": 12,
   "metadata": {},
   "outputs": [
    {
     "name": "stdout",
     "output_type": "stream",
     "text": [
      "测试成功!\n"
     ]
    }
   ],
   "source": [
    "def trim(s):\n",
    "    if len(s) != 0:\n",
    "        while s[:1] == ' ':\n",
    "            s = s[1:]\n",
    "        while s[-1:] == ' ':\n",
    "            s = s[:-1]\n",
    "    return s\n",
    "\n",
    "# 测试:\n",
    "if trim('hello  ') != 'hello':\n",
    "    print('测试失败!')\n",
    "elif trim('  hello') != 'hello':\n",
    "    print('测试失败!')\n",
    "elif trim('  hello  ') != 'hello':\n",
    "    print('测试失败!')\n",
    "elif trim('  hello  world  ') != 'hello  world':\n",
    "    print('测试失败!')\n",
    "elif trim('') != '':\n",
    "    print('测试失败!')\n",
    "elif trim('    ') != '':\n",
    "    print('测试失败!')\n",
    "else:\n",
    "    print('测试成功!')"
   ]
  },
  {
   "cell_type": "code",
   "execution_count": 15,
   "metadata": {},
   "outputs": [
    {
     "name": "stdout",
     "output_type": "stream",
     "text": [
      "测试成功!\n"
     ]
    }
   ],
   "source": [
    "def findMinAndMax(L):\n",
    "    if len(L) != 0:\n",
    "        min = max = L[0]\n",
    "        for a in L:\n",
    "            if a<min:\n",
    "                min = a\n",
    "            if a>max:\n",
    "                max = a\n",
    "    else:\n",
    "        min = max = None\n",
    "    return (min, max)\n",
    "\n",
    "# 测试\n",
    "if findMinAndMax([]) != (None, None):\n",
    "    print('测试失败!')\n",
    "elif findMinAndMax([7]) != (7, 7):\n",
    "    print('测试失败!')\n",
    "elif findMinAndMax([7, 1]) != (1, 7):\n",
    "    print('测试失败!')\n",
    "elif findMinAndMax([7, 1, 3, 9, 5]) != (1, 9):\n",
    "    print('测试失败!')\n",
    "else:\n",
    "    print('测试成功!')"
   ]
  },
  {
   "cell_type": "code",
   "execution_count": 16,
   "metadata": {},
   "outputs": [
    {
     "name": "stdout",
     "output_type": "stream",
     "text": [
      "['hello', 'world', 'apple']\n",
      "测试通过!\n"
     ]
    }
   ],
   "source": [
    "# -*- coding: utf-8 -*-\n",
    "L1 = ['Hello', 'World', 18, 'Apple', None]\n",
    "L2 = [s.lower() for s in L1 if isinstance(s,str) == True]\n",
    "# 测试:\n",
    "print(L2)\n",
    "if L2 == ['hello', 'world', 'apple']:\n",
    "    print('测试通过!')\n",
    "else:\n",
    "    print('测试失败!')"
   ]
  },
  {
   "cell_type": "code",
   "execution_count": 18,
   "metadata": {},
   "outputs": [
    {
     "name": "stdout",
     "output_type": "stream",
     "text": [
      "1\n",
      "1\n",
      "2\n",
      "3\n",
      "5\n",
      "8\n"
     ]
    },
    {
     "data": {
      "text/plain": [
       "'done'"
      ]
     },
     "execution_count": 18,
     "metadata": {},
     "output_type": "execute_result"
    }
   ],
   "source": [
    "def fib(max):\n",
    "    n, a, b = 0, 0, 1\n",
    "    while n < max:\n",
    "        print(b)\n",
    "        a, b = b, a + b\n",
    "        n = n + 1\n",
    "    return 'done'\n",
    "fib(6)"
   ]
  },
  {
   "cell_type": "code",
   "execution_count": 21,
   "metadata": {},
   "outputs": [
    {
     "name": "stdout",
     "output_type": "stream",
     "text": [
      "[1]\n",
      "[1, 1]\n",
      "[1, 2, 1]\n",
      "[1, 3, 3, 1]\n",
      "[1, 4, 6, 4, 1]\n",
      "[1, 5, 10, 10, 5, 1]\n",
      "[1, 6, 15, 20, 15, 6, 1]\n",
      "[1, 7, 21, 35, 35, 21, 7, 1]\n",
      "[1, 8, 28, 56, 70, 56, 28, 8, 1]\n",
      "[1, 9, 36, 84, 126, 126, 84, 36, 9, 1]\n",
      "测试通过!\n"
     ]
    }
   ],
   "source": [
    "def triangles():\n",
    "    L = [1]\n",
    "    yield L\n",
    "    while True:\n",
    "        L=[1]+[L[x]+L[x+1] for x in range(len(L)-1)]+[1]\n",
    "        yield L\n",
    "# 期待输出:\n",
    "# [1]\n",
    "# [1, 1]\n",
    "# [1, 2, 1]\n",
    "# [1, 3, 3, 1]\n",
    "# [1, 4, 6, 4, 1]\n",
    "# [1, 5, 10, 10, 5, 1]\n",
    "# [1, 6, 15, 20, 15, 6, 1]\n",
    "# [1, 7, 21, 35, 35, 21, 7, 1]\n",
    "# [1, 8, 28, 56, 70, 56, 28, 8, 1]\n",
    "# [1, 9, 36, 84, 126, 126, 84, 36, 9, 1]\n",
    "n = 0\n",
    "results = []\n",
    "for t in triangles():\n",
    "    print(t)\n",
    "    results.append(t)\n",
    "    n = n + 1\n",
    "    if n == 10:\n",
    "        break\n",
    "if results == [\n",
    "    [1],\n",
    "    [1, 1],\n",
    "    [1, 2, 1],\n",
    "    [1, 3, 3, 1],\n",
    "    [1, 4, 6, 4, 1],\n",
    "    [1, 5, 10, 10, 5, 1],\n",
    "    [1, 6, 15, 20, 15, 6, 1],\n",
    "    [1, 7, 21, 35, 35, 21, 7, 1],\n",
    "    [1, 8, 28, 56, 70, 56, 28, 8, 1],\n",
    "    [1, 9, 36, 84, 126, 126, 84, 36, 9, 1]\n",
    "]:\n",
    "    print('测试通过!')\n",
    "else:\n",
    "    print('测试失败!')"
   ]
  },
  {
   "cell_type": "code",
   "execution_count": 3,
   "metadata": {
    "ExecuteTime": {
     "end_time": "2019-07-20T07:10:52.736434Z",
     "start_time": "2019-07-20T07:10:52.724435Z"
    }
   },
   "outputs": [
    {
     "name": "stdout",
     "output_type": "stream",
     "text": [
      "11\n"
     ]
    }
   ],
   "source": [
    "import math\n",
    "def add(x, y, f):\n",
    "    return f(x) + f(y)\n",
    "\n",
    "print(add(-5, 6, abs))"
   ]
  },
  {
   "cell_type": "code",
   "execution_count": 4,
   "metadata": {
    "ExecuteTime": {
     "end_time": "2019-07-20T07:22:57.370257Z",
     "start_time": "2019-07-20T07:22:57.358260Z"
    },
    "code_folding": []
   },
   "outputs": [
    {
     "name": "stdout",
     "output_type": "stream",
     "text": [
      "['Adam', 'Lisa', 'Bart']\n"
     ]
    }
   ],
   "source": [
    "def normalize(name):\n",
    "    return name[0].upper()+name[1:].lower()\n",
    "# 测试:\n",
    "L1 = ['adam', 'LISA', 'barT']\n",
    "L2 = list(map(normalize, L1))\n",
    "print(L2)"
   ]
  },
  {
   "cell_type": "code",
   "execution_count": 6,
   "metadata": {
    "ExecuteTime": {
     "end_time": "2019-07-20T07:27:21.878650Z",
     "start_time": "2019-07-20T07:27:21.866653Z"
    }
   },
   "outputs": [
    {
     "name": "stdout",
     "output_type": "stream",
     "text": [
      "3 * 5 * 7 * 9 = 945\n",
      "测试成功!\n"
     ]
    }
   ],
   "source": [
    "from functools import reduce\n",
    "def prod(L):\n",
    "    def pro(x,y):\n",
    "        return x*y\n",
    "    return reduce(pro,L)\n",
    "print('3 * 5 * 7 * 9 =', prod([3, 5, 7, 9]))\n",
    "if prod([3, 5, 7, 9]) == 945:\n",
    "    print('测试成功!')\n",
    "else:\n",
    "    print('测试失败!')"
   ]
  },
  {
   "cell_type": "code",
   "execution_count": 13,
   "metadata": {
    "ExecuteTime": {
     "end_time": "2019-07-20T07:57:36.582799Z",
     "start_time": "2019-07-20T07:57:36.562802Z"
    }
   },
   "outputs": [
    {
     "name": "stdout",
     "output_type": "stream",
     "text": [
      "str2float('123.456') = 123.456\n",
      "测试成功!\n"
     ]
    }
   ],
   "source": [
    "# -*- coding: utf-8 -*-\n",
    "from functools import reduce\n",
    "\n",
    "DIGITS = {'0': 0, '1': 1, '2': 2, '3': 3, '4': 4, '5': 5, '6': 6, '7': 7, '8': 8, '9': 9}\n",
    "\n",
    "def str2float(s):\n",
    "    n=0\n",
    "    for i in s:\n",
    "        if i=='.':\n",
    "            break\n",
    "        else:\n",
    "            n=n+1\n",
    "    s1=s[:n]\n",
    "    s2=s[n+1:]\n",
    "    def d2int(s):\n",
    "        return DIGITS[s]\n",
    "    def fn(x,y):\n",
    "        return 10*x+y\n",
    "    def str2int(s):\n",
    "        return reduce(fn,list(map(d2int,s)))\n",
    "    return str2int(s1)+str2int(s2)*(10**(-len(s2)))\n",
    "print('str2float(\\'123.456\\') =', str2float('123.456'))\n",
    "if abs(str2float('123.456') - 123.456) < 0.00001:\n",
    "    print('测试成功!')\n",
    "else:\n",
    "    print('测试失败!')\n"
   ]
  },
  {
   "cell_type": "code",
   "execution_count": 14,
   "metadata": {
    "ExecuteTime": {
     "end_time": "2019-07-20T08:07:25.253582Z",
     "start_time": "2019-07-20T08:07:25.237588Z"
    }
   },
   "outputs": [
    {
     "name": "stdout",
     "output_type": "stream",
     "text": [
      "1~1000: [1, 2, 3, 4, 5, 6, 7, 8, 9, 11, 22, 33, 44, 55, 66, 77, 88, 99, 101, 111, 121, 131, 141, 151, 161, 171, 181, 191, 202, 212, 222, 232, 242, 252, 262, 272, 282, 292, 303, 313, 323, 333, 343, 353, 363, 373, 383, 393, 404, 414, 424, 434, 444, 454, 464, 474, 484, 494, 505, 515, 525, 535, 545, 555, 565, 575, 585, 595, 606, 616, 626, 636, 646, 656, 666, 676, 686, 696, 707, 717, 727, 737, 747, 757, 767, 777, 787, 797, 808, 818, 828, 838, 848, 858, 868, 878, 888, 898, 909, 919, 929, 939, 949, 959, 969, 979, 989, 999]\n",
      "测试成功!\n"
     ]
    }
   ],
   "source": [
    "# 筛选回数\n",
    "def is_palindrome(n):\n",
    "    return str(n)==str(n)[::-1]\n",
    "output = filter(is_palindrome, range(1, 1000))\n",
    "print('1~1000:', list(output))\n",
    "if list(filter(is_palindrome, range(1, 200))) == [1, 2, 3, 4, 5, 6, 7, 8, 9, 11, 22, 33, 44, 55, 66, 77, 88, 99, 101, 111, 121, 131, 141, 151, 161, 171, 181, 191]:\n",
    "    print('测试成功!')\n",
    "else:\n",
    "    print('测试失败!')"
   ]
  },
  {
   "cell_type": "code",
   "execution_count": 17,
   "metadata": {
    "ExecuteTime": {
     "end_time": "2019-07-20T08:15:47.016348Z",
     "start_time": "2019-07-20T08:15:47.004348Z"
    }
   },
   "outputs": [
    {
     "name": "stdout",
     "output_type": "stream",
     "text": [
      "[('Adam', 92), ('Bart', 66), ('Bob', 75), ('Lisa', 88)]\n",
      "[('Adam', 92), ('Lisa', 88), ('Bob', 75), ('Bart', 66)]\n"
     ]
    }
   ],
   "source": [
    "# -*- coding: utf-8 -*-\n",
    "\n",
    "L = [('Bob', 75), ('Adam', 92), ('Bart', 66), ('Lisa', 88)]\n",
    "\n",
    "# 按名字排序\n",
    "def by_name(t):\n",
    "    return t[0]\n",
    "L2 = sorted(L, key=by_name)\n",
    "print(L2)\n",
    "\n",
    "# 按分数排序\n",
    "def by_score(t):\n",
    "    return -t[1]\n",
    "L3 = sorted(L, key=by_score)\n",
    "print(L3)"
   ]
  },
  {
   "cell_type": "code",
   "execution_count": null,
   "metadata": {},
   "outputs": [],
   "source": []
  }
 ],
 "metadata": {
  "kernelspec": {
   "display_name": "Python 3",
   "language": "python",
   "name": "python3"
  },
  "language_info": {
   "codemirror_mode": {
    "name": "ipython",
    "version": 3
   },
   "file_extension": ".py",
   "mimetype": "text/x-python",
   "name": "python",
   "nbconvert_exporter": "python",
   "pygments_lexer": "ipython3",
   "version": "3.7.3"
  },
  "toc": {
   "base_numbering": 1,
   "nav_menu": {},
   "number_sections": true,
   "sideBar": true,
   "skip_h1_title": false,
   "title_cell": "Table of Contents",
   "title_sidebar": "Contents",
   "toc_cell": false,
   "toc_position": {},
   "toc_section_display": true,
   "toc_window_display": false
  },
  "varInspector": {
   "cols": {
    "lenName": 16,
    "lenType": 16,
    "lenVar": 40
   },
   "kernels_config": {
    "python": {
     "delete_cmd_postfix": "",
     "delete_cmd_prefix": "del ",
     "library": "var_list.py",
     "varRefreshCmd": "print(var_dic_list())"
    },
    "r": {
     "delete_cmd_postfix": ") ",
     "delete_cmd_prefix": "rm(",
     "library": "var_list.r",
     "varRefreshCmd": "cat(var_dic_list()) "
    }
   },
   "types_to_exclude": [
    "module",
    "function",
    "builtin_function_or_method",
    "instance",
    "_Feature"
   ],
   "window_display": false
  }
 },
 "nbformat": 4,
 "nbformat_minor": 2
}
