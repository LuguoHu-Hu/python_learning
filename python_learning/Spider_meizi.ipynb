{
 "cells": [
  {
   "cell_type": "code",
   "execution_count": 4,
   "metadata": {},
   "outputs": [
    {
     "name": "stdout",
     "output_type": "stream",
     "text": [
      "==========正在抓取1页==========\n",
      "正在抓取图片：百变风格各种诱惑 风情御女周于希绝美成熟性感爆屏.jpg\n",
      "正在抓取图片：大奶妹子小尤奈发育真超前 硕大的酥胸饱满坚挺手感十足.jpg\n",
      "正在抓取图片：甜美软妹子安妮BABY魅惑写真 发育超前性感无比.jpg\n",
      "正在抓取图片：性感美女徐微微户外写真唯美而诱人 妖娆身姿过目难忘.jpg\n",
      "正在抓取图片：有胸有臀大长腿 花の颜女神芝芝Booty绝美身姿风情万种.jpg\n",
      "正在抓取图片：白色胸罩福利写真 美女模特白白Alina肤若凝脂白嫩水灵.jpg\n",
      "正在抓取图片：美貌与身材兼具 黑丝美女周于希性感翘臀浑圆饱满紧致诱人.jpg\n",
      "正在抓取图片：肥美尤物王婉悠血滴子内衣写真 暗黑魅惑嗜血销魂.jpg\n",
      "正在抓取图片：头条女神笑笑软萌可爱又豪放 撩衣挤胸作风大胆.jpg\n",
      "正在抓取图片：人间尤物奶瓶土肥圆无圣光人体写真 高跟美腿魅力无法挡.jpg\n",
      "正在抓取图片：御姐PK小可爱 性感模特韩恩熙姐妹花诱惑再次上演.jpg\n",
      "正在抓取图片：满足你对老师的幻想 女神许诺Sabrina教师OL制服知性迷人.jpg\n",
      "正在抓取图片：玲珑美人Annie安妮性感写真 美乳翘臀下修长玉腿异常诱人.jpg\n",
      "正在抓取图片：美人醉语园中烟 女神芝芝Booty上演华丽丽的诱惑.jpg\n",
      "正在抓取图片：乳沟好深 极品美女李可可性感美乳无法一手掌握.jpg\n",
      "正在抓取图片：把自己当礼物 风情尤物Egg尤妮丝巨乳肥臀等你调教.jpg\n",
      "正在抓取图片：丰满身材呼之欲出 蜜桃社美绪超级豪乳震惊网友.jpg\n",
      "正在抓取图片：黑丝美人酥小白性感床照 惹火姿势尽显女王气质.jpg\n",
      "正在抓取图片：妩媚女神妲己Toxic薄纱湿身诱惑 喷血豪乳一目了然.jpg\n",
      "正在抓取图片：极品嫩妹徐cake性感写真秀美乳 一嘴酸奶画面好内涵.jpg\n",
      "正在抓取图片：绝色美女张雨萌裸体泡温泉 饱满酥胸令人热血上涌.jpg\n",
      "正在抓取图片：第一视角带剧情，性感美女王雨纯女仆幻想不容错过.jpg\n",
      "正在抓取图片：性感模特月音瞳透视睡衣照 胸口敞开雪白诱人.jpg\n",
      "正在抓取图片：爱蜜社兔女郎酥小白性感黑丝诱惑 火辣身材引人遐想.jpg\n"
     ]
    }
   ],
   "source": [
    "import requests\n",
    "from lxml import etree\n",
    "\n",
    "class Spider(object):\n",
    "    def __init__(self):\n",
    "        self.headers = { \n",
    "            \"User-Agent\": \"Mozilla/5.0 (Windows NT 10.0; WOW64) AppleWebKit/537.36 (KHTML, like Gecko) Chrome/70.0.3538.110 Safari/537.36\",\n",
    "            \"Referer\": \"https://www.mzitu.com/xinggan/\"\n",
    "        }\n",
    "        \n",
    "    def start_request(self):\n",
    "        for i in range(1, 2):\n",
    "            print(\"==========正在抓取%s页==========\" % i)\n",
    "            response = requests.get(\"https://www.mzitu.com/page/\"+ str(i) + \"/\", headers=self.headers)\n",
    "            html = etree.HTML(response.content.decode())\n",
    "            self.xpath_data(html)\n",
    "            \n",
    "    def xpath_data(self, html):\n",
    "        src_list = html.xpath('//ul[@id=\"pins\"]/li/a/img/@data-original')\n",
    "        alt_list = html.xpath('//ul[@id=\"pins\"]/li/a/img/@alt')\n",
    "        for src, alt in zip(src_list, alt_list):\n",
    "            file_name = alt + \".jpg\"\n",
    "            response = requests.get(src, headers=self.headers)\n",
    "            print(\"正在抓取图片：\" + file_name)\n",
    "            try:\n",
    "                with open(file_name, \"wb\") as f:\n",
    "                    f.write(response.content)\n",
    "            except:\n",
    "                print(\"==========文件名有误！==========\")\n",
    "\n",
    "spider = Spider()\n",
    "spider.start_request()\n",
    "\n",
    "\n",
    "\n",
    "\n",
    "\n",
    "\n",
    "\n",
    "\n",
    "\n",
    "\n",
    "\n",
    "\n",
    "\n",
    "\n",
    "        \n",
    "\n",
    " \n",
    "\n",
    "\n"
   ]
  },
  {
   "cell_type": "code",
   "execution_count": null,
   "metadata": {},
   "outputs": [],
   "source": []
  },
  {
   "cell_type": "code",
   "execution_count": null,
   "metadata": {},
   "outputs": [],
   "source": []
  }
 ],
 "metadata": {
  "kernelspec": {
   "display_name": "Python 3",
   "language": "python",
   "name": "python3"
  },
  "language_info": {
   "codemirror_mode": {
    "name": "ipython",
    "version": 3
   },
   "file_extension": ".py",
   "mimetype": "text/x-python",
   "name": "python",
   "nbconvert_exporter": "python",
   "pygments_lexer": "ipython3",
   "version": "3.7.3"
  }
 },
 "nbformat": 4,
 "nbformat_minor": 2
}
