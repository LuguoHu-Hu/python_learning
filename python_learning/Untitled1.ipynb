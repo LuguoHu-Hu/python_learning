{
 "cells": [
  {
   "cell_type": "code",
   "execution_count": 5,
   "metadata": {},
   "outputs": [
    {
     "name": "stdout",
     "output_type": "stream",
     "text": [
      "[10, 9, 6, 4, 3, 2, 1]\n"
     ]
    }
   ],
   "source": [
    "import functools\n",
    "sortedDESC = functools.partial(sorted,reverse = True)\n",
    "L1=[1,3,9,4,2,6,10]\n",
    "L2=sortedDESC(L1)\n",
    "print(L2)"
   ]
  },
  {
   "cell_type": "code",
   "execution_count": 6,
   "metadata": {},
   "outputs": [
    {
     "name": "stdout",
     "output_type": "stream",
     "text": [
      "3.141592653589793\n"
     ]
    },
    {
     "data": {
      "text/plain": [
       "8.979306187484326e-11"
      ]
     },
     "execution_count": 6,
     "metadata": {},
     "output_type": "execute_result"
    }
   ],
   "source": [
    "import math\n",
    "def roundN(pi,n):\n",
    "    pi = math.pi\n",
    "    if(pi-round(pi,15-n)<0):\n",
    "        return pi-(round(pi,15-n)-1/pow(10,15-n))\n",
    "    else:\n",
    "        return pi-round(pi,15-n)\n",
    "print(math.pi)\n",
    "roundNN = functools.partial(roundN,math.pi)\n",
    "roundNN(5)"
   ]
  },
  {
   "cell_type": "code",
   "execution_count": 8,
   "metadata": {},
   "outputs": [
    {
     "name": "stdout",
     "output_type": "stream",
     "text": [
      "[{'a': 2}, {'b': 2}, {'c': 1}, {'a': 2}, {'b': 2}]\n"
     ]
    }
   ],
   "source": [
    "str = 'abcab'\n",
    "dicts  = list(map(lambda x:{x:str.count(x)},str))\n",
    "print(dicts)"
   ]
  },
  {
   "cell_type": "code",
   "execution_count": 11,
   "metadata": {},
   "outputs": [
    {
     "data": {
      "text/plain": [
       "[{'a': 2}, {'b': 2}, {'c': 1}]"
      ]
     },
     "execution_count": 11,
     "metadata": {},
     "output_type": "execute_result"
    }
   ],
   "source": [
    "list1 = []\n",
    "def myfilter(dicts):    \n",
    "    for i in dicts.items():\n",
    "        if i not in list1: \n",
    "            list1.append(i)\n",
    "            return True\n",
    "        else:\n",
    "            return False\n",
    "list(filter(myfilter,dicts))"
   ]
  },
  {
   "cell_type": "code",
   "execution_count": null,
   "metadata": {},
   "outputs": [],
   "source": []
  }
 ],
 "metadata": {
  "kernelspec": {
   "display_name": "Python 3",
   "language": "python",
   "name": "python3"
  },
  "language_info": {
   "codemirror_mode": {
    "name": "ipython",
    "version": 3
   },
   "file_extension": ".py",
   "mimetype": "text/x-python",
   "name": "python",
   "nbconvert_exporter": "python",
   "pygments_lexer": "ipython3",
   "version": "3.7.3"
  }
 },
 "nbformat": 4,
 "nbformat_minor": 2
}
