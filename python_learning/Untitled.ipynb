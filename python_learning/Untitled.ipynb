{
 "cells": [
  {
   "cell_type": "code",
   "execution_count": 1,
   "metadata": {},
   "outputs": [
    {
     "name": "stdout",
     "output_type": "stream",
     "text": [
      "0\n",
      "1\n",
      "2\n",
      "3\n",
      "4\n"
     ]
    }
   ],
   "source": [
    "def foo(n):\n",
    "    for i in range(n):\n",
    "        print(i)\n",
    "foo(5)"
   ]
  },
  {
   "cell_type": "code",
   "execution_count": 5,
   "metadata": {},
   "outputs": [
    {
     "name": "stdout",
     "output_type": "stream",
     "text": [
      "(1, 2, 3)\n"
     ]
    }
   ],
   "source": [
    "def paixu(a,b,c):\n",
    "    L=[a,b,c]\n",
    "    L.sort()\n",
    "    print(tuple(L))\n",
    "paixu(1,3,2)\n",
    "        "
   ]
  },
  {
   "cell_type": "code",
   "execution_count": 20,
   "metadata": {},
   "outputs": [
    {
     "name": "stdout",
     "output_type": "stream",
     "text": [
      "班级名： 二班\n",
      "-------------------------------------------------------------------\n",
      "班级特色：\n",
      "活泼\n",
      "勤奋\n",
      "努力\n",
      "------------------------------------------------------------------ \n",
      "班级平均年龄为： 17.333333333333332\n"
     ]
    }
   ],
   "source": [
    "def classes(classname,*characters,**nameage):\n",
    "    print ('班级名：',classname)\n",
    "    print ('-------------------------------------------------------------------')\n",
    "    print ('班级特色：')\n",
    "    for i in characters:\n",
    "        print(i)\n",
    "    print ('------------------------------------------------------------------ ')\n",
    "    sum=0\n",
    "    i=0\n",
    "    for key,value in nameage.items():\n",
    "        i += 1\n",
    "        sum += value\n",
    "    print('班级平均年龄为：',sum/i)\n",
    "classes('二班','活泼','勤奋','努力',小明=18,小红=17,小陈=17)\n",
    "    "
   ]
  },
  {
   "cell_type": "code",
   "execution_count": 24,
   "metadata": {},
   "outputs": [
    {
     "data": {
      "text/plain": [
       "13"
      ]
     },
     "execution_count": 24,
     "metadata": {},
     "output_type": "execute_result"
    }
   ],
   "source": [
    "from functools import reduce\n",
    "def mymax(a,b):\n",
    "    if a>b:\n",
    "        return a\n",
    "    else:\n",
    "        return b\n",
    "\n",
    "l1=[1,3,9,7,13,11]\n",
    "reduce(lambda a,b:mymax(a,b),l1)"
   ]
  },
  {
   "cell_type": "code",
   "execution_count": 3,
   "metadata": {},
   "outputs": [
    {
     "data": {
      "text/plain": [
       "[0,\n",
       " 21,\n",
       " 42,\n",
       " 63,\n",
       " 84,\n",
       " 105,\n",
       " 126,\n",
       " 147,\n",
       " 168,\n",
       " 189,\n",
       " 210,\n",
       " 231,\n",
       " 252,\n",
       " 273,\n",
       " 294,\n",
       " 315,\n",
       " 336,\n",
       " 357,\n",
       " 378,\n",
       " 399,\n",
       " 420,\n",
       " 441,\n",
       " 462,\n",
       " 483,\n",
       " 504,\n",
       " 525,\n",
       " 546,\n",
       " 567,\n",
       " 588,\n",
       " 609,\n",
       " 630,\n",
       " 651,\n",
       " 672,\n",
       " 693,\n",
       " 714,\n",
       " 735,\n",
       " 756,\n",
       " 777,\n",
       " 798,\n",
       " 819,\n",
       " 840,\n",
       " 861,\n",
       " 882,\n",
       " 903,\n",
       " 924,\n",
       " 945,\n",
       " 966,\n",
       " 987]"
      ]
     },
     "execution_count": 3,
     "metadata": {},
     "output_type": "execute_result"
    }
   ],
   "source": [
    "list(filter(lambda x:x%7==0 and x%3==0,range(1000)))\n"
   ]
  },
  {
   "cell_type": "code",
   "execution_count": 28,
   "metadata": {},
   "outputs": [
    {
     "name": "stdout",
     "output_type": "stream",
     "text": [
      "2\n"
     ]
    }
   ],
   "source": [
    "a=2%3\n",
    "print(a)"
   ]
  },
  {
   "cell_type": "code",
   "execution_count": 6,
   "metadata": {},
   "outputs": [
    {
     "name": "stdout",
     "output_type": "stream",
     "text": [
      "3.141592653589793\n",
      "3\n"
     ]
    }
   ],
   "source": [
    "import math\n",
    "a=math.pi\n",
    "print(a)\n",
    "b=round(a)\n",
    "print(b)"
   ]
  },
  {
   "cell_type": "code",
   "execution_count": null,
   "metadata": {},
   "outputs": [],
   "source": []
  }
 ],
 "metadata": {
  "kernelspec": {
   "display_name": "Python 3",
   "language": "python",
   "name": "python3"
  },
  "language_info": {
   "codemirror_mode": {
    "name": "ipython",
    "version": 3
   },
   "file_extension": ".py",
   "mimetype": "text/x-python",
   "name": "python",
   "nbconvert_exporter": "python",
   "pygments_lexer": "ipython3",
   "version": "3.7.3"
  }
 },
 "nbformat": 4,
 "nbformat_minor": 2
}
